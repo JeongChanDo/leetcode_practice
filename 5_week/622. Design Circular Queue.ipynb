{
 "cells": [
  {
   "cell_type": "code",
   "execution_count": 1,
   "metadata": {},
   "outputs": [],
   "source": [
    "class MyCircularQueue:\n",
    "\n",
    "    def __init__(self, k: int):\n",
    "        self.max_size = k\n",
    "        self.queue = []\n",
    "\n",
    "    def enQueue(self, value: int) -> bool:\n",
    "        if self.isFull():\n",
    "            return False\n",
    "        self.queue.append(value)\n",
    "        #print(\"enque res : \", self.queue)\n",
    "        return True\n",
    "        \n",
    "    def deQueue(self) -> bool:\n",
    "        if self.isEmpty():\n",
    "            return False\n",
    "        self.queue.pop(0)\n",
    "        #print(\"deque res :\",self.queue)\n",
    "        return True\n",
    "\n",
    "    def Front(self) -> int:\n",
    "        if self.isEmpty():\n",
    "            return -1\n",
    "        return self.queue[0]\n",
    "\n",
    "    \n",
    "    def Rear(self) -> int:\n",
    "        if self.isEmpty():\n",
    "            return -1\n",
    "        #print(\"rear curr queue :\",self.queue, \", \",self.queue[-1])\n",
    "        val = self.queue[-1]\n",
    "        #print(\"\\t\\t val : \", val)\n",
    "        return val\n",
    "\n",
    "    \n",
    "    def isEmpty(self) -> bool:\n",
    "        if not self.queue:\n",
    "            return True\n",
    "        return False\n",
    "\n",
    "    def isFull(self) -> bool:\n",
    "        if len(self.queue) == self.max_size:\n",
    "            return True\n",
    "        return False"
   ]
  },
  {
   "cell_type": "code",
   "execution_count": null,
   "metadata": {},
   "outputs": [],
   "source": []
  }
 ],
 "metadata": {
  "kernelspec": {
   "display_name": "Python 3",
   "language": "python",
   "name": "python3"
  },
  "language_info": {
   "codemirror_mode": {
    "name": "ipython",
    "version": 3
   },
   "file_extension": ".py",
   "mimetype": "text/x-python",
   "name": "python",
   "nbconvert_exporter": "python",
   "pygments_lexer": "ipython3",
   "version": "3.7.1"
  }
 },
 "nbformat": 4,
 "nbformat_minor": 2
}
