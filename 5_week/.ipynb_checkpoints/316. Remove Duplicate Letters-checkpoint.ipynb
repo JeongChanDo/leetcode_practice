{
 "cells": [
  {
   "cell_type": "code",
   "execution_count": 1,
   "metadata": {},
   "outputs": [],
   "source": [
    "class Solution:\n",
    "    def removeDuplicateLetters(self, s: str) -> str:\n",
    "        d = {char : idx for idx, char in enumerate(s)}\n",
    "        stack = []\n",
    "        visited = [False for _ in range(26)]\n",
    "        for i, ch in enumerate(s):\n",
    "            if not visited[ord(ch)-ord('a')]:\n",
    "                while stack and i < d[stack[-1]] and ch <stack[-1]:\n",
    "                    v = stack.pop()\n",
    "                    visited[ord(v) - ord('a')] = False\n",
    "                stack.append(ch)\n",
    "                visited[ord(ch)-ord('a')] = True\n",
    "        return \"\".join(stack)"
   ]
  },
  {
   "cell_type": "code",
   "execution_count": null,
   "metadata": {},
   "outputs": [],
   "source": []
  }
 ],
 "metadata": {
  "kernelspec": {
   "display_name": "Python 3",
   "language": "python",
   "name": "python3"
  },
  "language_info": {
   "codemirror_mode": {
    "name": "ipython",
    "version": 3
   },
   "file_extension": ".py",
   "mimetype": "text/x-python",
   "name": "python",
   "nbconvert_exporter": "python",
   "pygments_lexer": "ipython3",
   "version": "3.7.1"
  }
 },
 "nbformat": 4,
 "nbformat_minor": 2
}
