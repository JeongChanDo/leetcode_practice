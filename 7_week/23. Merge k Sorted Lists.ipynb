{
 "cells": [
  {
   "cell_type": "code",
   "execution_count": null,
   "metadata": {},
   "outputs": [],
   "source": [
    "# Definition for singly-linked list.\n",
    "# class ListNode:\n",
    "#     def __init__(self, val=0, next=None):\n",
    "#         self.val = val\n",
    "#         self.next = next\n",
    "\n",
    "def ll2lst(head: ListNode) -> List:\n",
    "    lst = []\n",
    "    while head is not None:\n",
    "        lst.append(head.val)\n",
    "        head = head.next\n",
    "    return lst\n",
    "\n",
    "def lst2ll(lst : List) -> ListNode:\n",
    "    \n",
    "    \n",
    "    node = ListNode(val=lst[-1], next=None)\n",
    "    for idx in range(len(lst)-2, 0-1, -1):\n",
    "        node = ListNode(val=lst[idx], next=node)\n",
    "    return node\n",
    "\n",
    "class Solution:\n",
    "    def mergeKLists(self, lists: List[ListNode]) -> ListNode:\n",
    "        if lists == []:\n",
    "            return None\n",
    "        \n",
    "        res = []\n",
    "        for ll in lists:\n",
    "            if ll == None:\n",
    "                continue\n",
    "            lst = ll2lst(ll)\n",
    "            res += lst\n",
    "        res.sort()\n",
    "        if res:\n",
    "            ll = lst2ll(res)\n",
    "        else:\n",
    "            return None\n",
    "        return ll"
   ]
  }
 ],
 "metadata": {
  "kernelspec": {
   "display_name": "Python 3",
   "language": "python",
   "name": "python3"
  },
  "language_info": {
   "codemirror_mode": {
    "name": "ipython",
    "version": 3
   },
   "file_extension": ".py",
   "mimetype": "text/x-python",
   "name": "python",
   "nbconvert_exporter": "python",
   "pygments_lexer": "ipython3",
   "version": "3.7.1"
  }
 },
 "nbformat": 4,
 "nbformat_minor": 2
}
