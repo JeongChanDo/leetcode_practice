{
 "cells": [
  {
   "cell_type": "code",
   "execution_count": 1,
   "metadata": {},
   "outputs": [],
   "source": [
    "from typing import List\n",
    "\n",
    "class Solution:\n",
    "    def findMedianSortedArrays(self, nums1: List[int], nums2: List[int]) -> float:\n",
    "        lst = nums1 + nums2\n",
    "        lst.sort()\n",
    "        \n",
    "        if len(lst) == 1:\n",
    "            return lst[0]\n",
    "        \n",
    "        median_idx = int(len(lst)/2)-1\n",
    "        if len(lst) % 2 == 0:\n",
    "            median = (lst[median_idx] + lst[median_idx + 1])/2\n",
    "        else:\n",
    "            median = lst[median_idx + 1]\n",
    "        \n",
    "        return median"
   ]
  },
  {
   "cell_type": "code",
   "execution_count": 2,
   "metadata": {},
   "outputs": [
    {
     "name": "stdout",
     "output_type": "stream",
     "text": [
      "0 th - testcase :  [[1, 3], [2]]\n",
      "result :  2\n",
      "\n",
      "1 th - testcase :  [[1, 2], [3, 4]]\n",
      "result :  2.5\n",
      "\n",
      "2 th - testcase :  [[0, 0], [0, 0]]\n",
      "result :  0.0\n",
      "\n"
     ]
    }
   ],
   "source": [
    "testcase = [[[1,3], [2]],\n",
    "           [[1, 2], [3, 4]],\n",
    "           [[0, 0], [0, 0]]]\n",
    "\n",
    "solution = Solution()\n",
    "for i, elem in enumerate(testcase):\n",
    "    print(i,\"th - testcase : \", elem)\n",
    "    print(\"result : \", solution.findMedianSortedArrays(elem[0], elem[1]))\n",
    "    print()\n",
    "    "
   ]
  },
  {
   "cell_type": "code",
   "execution_count": null,
   "metadata": {},
   "outputs": [],
   "source": []
  }
 ],
 "metadata": {
  "kernelspec": {
   "display_name": "aiffel",
   "language": "python",
   "name": "aiffel"
  },
  "language_info": {
   "codemirror_mode": {
    "name": "ipython",
    "version": 3
   },
   "file_extension": ".py",
   "mimetype": "text/x-python",
   "name": "python",
   "nbconvert_exporter": "python",
   "pygments_lexer": "ipython3",
   "version": "3.7.9"
  }
 },
 "nbformat": 4,
 "nbformat_minor": 4
}
