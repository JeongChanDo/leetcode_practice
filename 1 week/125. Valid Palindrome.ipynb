{
 "cells": [
  {
   "cell_type": "code",
   "execution_count": 1,
   "metadata": {},
   "outputs": [],
   "source": [
    "class Solution:\n",
    "    def isPalindrome(self, s: str) -> bool:\n",
    "        lst = []\n",
    "        for idx, ch in enumerate(s):\n",
    "            if ch.isalnum():\n",
    "                lst.append(ch.lower())\n",
    "        idx = 0\n",
    "        while idx < len(lst):\n",
    "            if lst[idx] != lst[len(lst) - idx - 1]:\n",
    "                return False\n",
    "            idx = idx + 1\n",
    "        return True"
   ]
  },
  {
   "cell_type": "code",
   "execution_count": 2,
   "metadata": {},
   "outputs": [
    {
     "name": "stdout",
     "output_type": "stream",
     "text": [
      "0 th - testcase :  race a car\n",
      "result :  False\n",
      "\n",
      "1 th - testcase :  A man, a plan, a canal: Panama\n",
      "result :  True\n",
      "\n"
     ]
    }
   ],
   "source": [
    "testcase = [\"race a car\",\n",
    "        \"A man, a plan, a canal: Panama\"]\n",
    "\n",
    "solution = Solution()\n",
    "for i, string in enumerate(testcase):\n",
    "    print(i,\"th - testcase : \", string)\n",
    "    print(\"result : \", solution.isPalindrome(string))\n",
    "    print()\n",
    "    "
   ]
  },
  {
   "cell_type": "code",
   "execution_count": null,
   "metadata": {},
   "outputs": [],
   "source": []
  }
 ],
 "metadata": {
  "kernelspec": {
   "display_name": "aiffel",
   "language": "python",
   "name": "aiffel"
  },
  "language_info": {
   "codemirror_mode": {
    "name": "ipython",
    "version": 3
   },
   "file_extension": ".py",
   "mimetype": "text/x-python",
   "name": "python",
   "nbconvert_exporter": "python",
   "pygments_lexer": "ipython3",
   "version": "3.7.9"
  }
 },
 "nbformat": 4,
 "nbformat_minor": 4
}
