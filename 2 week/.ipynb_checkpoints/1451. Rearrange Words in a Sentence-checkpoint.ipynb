{
 "cells": [
  {
   "cell_type": "code",
   "execution_count": 1,
   "metadata": {},
   "outputs": [],
   "source": [
    "class Solution:\n",
    "    def arrangeWords(self, text: str) -> str:\n",
    "        ch_lst = []\n",
    "        for i, val in enumerate(text):\n",
    "            if  val != ' ':\n",
    "                ch_lst.append(val.lower())\n",
    "            else:\n",
    "                ch_lst.append(val)\n",
    "        print(\"lower all character\", ch_lst)\n",
    "        \n",
    "        \n",
    "        #make word\n",
    "        word_lst = list()\n",
    "        start_idx = 0\n",
    "        for i, val in enumerate(ch_lst):\n",
    "            #to prevent out of index\n",
    "            if i + 1 < len(ch_lst):\n",
    "                # if next word is space, this is word from start_idx to i\n",
    "                if ch_lst[i + 1] == ' ':\n",
    "                    \n",
    "                    word = ''.join(ch_lst[start_idx: i+1])\n",
    "                    elem = [word, len(word)]\n",
    "                    word_lst.append(elem)\n",
    "                    start_idx = i+2\n",
    "            if i+1 == len(ch_lst):\n",
    "                word = ''.join(ch_lst[start_idx: i+1])\n",
    "                elem = [word, len(word)]\n",
    "                word_lst.append(elem)\n",
    "        print(\"word_lst : \", word_lst)\n",
    "        \n",
    "        \n",
    "        word_lst.sort(key=lambda x: x[1])\n",
    "        print(\"sorted word_lst : \", word_lst)\n",
    "        \n",
    "        ch_lst = []\n",
    "        for i, elem in enumerate(word_lst):\n",
    "            for j, ch in enumerate(elem[0]):\n",
    "                if i == 0 and j == 0:\n",
    "                    ch_lst.append(ch.upper())\n",
    "                else:\n",
    "                    ch_lst.append(ch)\n",
    "            if i + 1 != len(word_lst):\n",
    "                ch_lst.append(' ')\n",
    "        sentence = ''.join(ch_lst)\n",
    "        print(sentence)\n",
    "        return sentence"
   ]
  },
  {
   "cell_type": "code",
   "execution_count": 2,
   "metadata": {},
   "outputs": [
    {
     "name": "stdout",
     "output_type": "stream",
     "text": [
      "0 th - testcase :  Leetcode is cool\n",
      "lower all character ['l', 'e', 'e', 't', 'c', 'o', 'd', 'e', ' ', 'i', 's', ' ', 'c', 'o', 'o', 'l']\n",
      "word_lst :  [['leetcode', 8], ['is', 2], ['cool', 4]]\n",
      "sorted word_lst :  [['is', 2], ['cool', 4], ['leetcode', 8]]\n",
      "Is cool leetcode\n",
      "result :  Is cool leetcode\n",
      "\n",
      "1 th - testcase :  Keep calm and code on\n",
      "lower all character ['k', 'e', 'e', 'p', ' ', 'c', 'a', 'l', 'm', ' ', 'a', 'n', 'd', ' ', 'c', 'o', 'd', 'e', ' ', 'o', 'n']\n",
      "word_lst :  [['keep', 4], ['calm', 4], ['and', 3], ['code', 4], ['on', 2]]\n",
      "sorted word_lst :  [['on', 2], ['and', 3], ['keep', 4], ['calm', 4], ['code', 4]]\n",
      "On and keep calm code\n",
      "result :  On and keep calm code\n",
      "\n",
      "2 th - testcase :  To be or not to be\n",
      "lower all character ['t', 'o', ' ', 'b', 'e', ' ', 'o', 'r', ' ', 'n', 'o', 't', ' ', 't', 'o', ' ', 'b', 'e']\n",
      "word_lst :  [['to', 2], ['be', 2], ['or', 2], ['not', 3], ['to', 2], ['be', 2]]\n",
      "sorted word_lst :  [['to', 2], ['be', 2], ['or', 2], ['to', 2], ['be', 2], ['not', 3]]\n",
      "To be or to be not\n",
      "result :  To be or to be not\n",
      "\n"
     ]
    }
   ],
   "source": [
    "testcase = [\"Leetcode is cool\",\n",
    "        \"Keep calm and code on\",\n",
    "        \"To be or not to be\"]\n",
    "\n",
    "solution = Solution()\n",
    "for i, string in enumerate(testcase):\n",
    "    print(i,\"th - testcase : \", string)\n",
    "    print(\"result : \", solution.arrangeWords(string))\n",
    "    print()\n",
    "    "
   ]
  },
  {
   "cell_type": "code",
   "execution_count": null,
   "metadata": {},
   "outputs": [],
   "source": []
  }
 ],
 "metadata": {
  "kernelspec": {
   "display_name": "Python 3",
   "language": "python",
   "name": "python3"
  },
  "language_info": {
   "codemirror_mode": {
    "name": "ipython",
    "version": 3
   },
   "file_extension": ".py",
   "mimetype": "text/x-python",
   "name": "python",
   "nbconvert_exporter": "python",
   "pygments_lexer": "ipython3",
   "version": "3.7.9"
  }
 },
 "nbformat": 4,
 "nbformat_minor": 4
}
