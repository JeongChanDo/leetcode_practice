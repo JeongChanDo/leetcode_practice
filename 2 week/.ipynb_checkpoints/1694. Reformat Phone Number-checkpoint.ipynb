{
 "cells": [
  {
   "cell_type": "code",
   "execution_count": 1,
   "metadata": {},
   "outputs": [],
   "source": [
    "class Solution:\n",
    "    def reformatNumber(self, number: str) -> str:\n",
    "        #remove all space and dash\n",
    "        del_lst = []\n",
    "        for i in range(len(number)):\n",
    "            item = number[i]\n",
    "            if item == '-' or item == ' ':\n",
    "                pass\n",
    "            else:\n",
    "                del_lst.append(item)\n",
    "        \n",
    "        print(\"all space and dashes are delete : \", del_lst)\n",
    "        \n",
    "\n",
    "        num_lst = []\n",
    "        start_idx = 0\n",
    "        num_cnt = 0\n",
    "        num_str = ''.join(del_lst)\n",
    "        for i, val in enumerate(num_str):\n",
    "            left_num = len(num_str) - i\n",
    "            if left_num == 2 and num_cnt == 0:\n",
    "                num_lst.append(num_str[i:i+2])\n",
    "                break\n",
    "            if left_num == 4 and num_cnt == 0: \n",
    "                num_lst.append(num_str[i:i+2])\n",
    "                num_lst.append(num_str[i+2:i+4])\n",
    "                print(\"left 4 num\")\n",
    "                break\n",
    "            if num_cnt == 2:\n",
    "                num_cnt = 0\n",
    "                num = num_str[start_idx:i+1]\n",
    "                num_lst.append(num)\n",
    "                start_idx = i + 1\n",
    "                continue\n",
    "            num_cnt = num_cnt + 1\n",
    "        print(\"num lst : \", num_lst)\n",
    "        \n",
    "        \n",
    "        #reformat phone number\n",
    "        phone_number = '-'.join(num_lst)\n",
    "        print(phone_number)\n",
    "        return phone_number"
   ]
  },
  {
   "cell_type": "code",
   "execution_count": 2,
   "metadata": {},
   "outputs": [
    {
     "name": "stdout",
     "output_type": "stream",
     "text": [
      "0 th - testcase :  1-23-45 6\n",
      "all space and dashes are delete :  ['1', '2', '3', '4', '5', '6']\n",
      "num lst :  ['123', '456']\n",
      "123-456\n",
      "result :  123-456\n",
      "\n",
      "1 th - testcase :  123 4-567\n",
      "all space and dashes are delete :  ['1', '2', '3', '4', '5', '6', '7']\n",
      "left 4 num\n",
      "num lst :  ['123', '45', '67']\n",
      "123-45-67\n",
      "result :  123-45-67\n",
      "\n",
      "2 th - testcase :  123 4-5678\n",
      "all space and dashes are delete :  ['1', '2', '3', '4', '5', '6', '7', '8']\n",
      "num lst :  ['123', '456', '78']\n",
      "123-456-78\n",
      "result :  123-456-78\n",
      "\n",
      "3 th - testcase :  12\n",
      "all space and dashes are delete :  ['1', '2']\n",
      "num lst :  ['12']\n",
      "12\n",
      "result :  12\n",
      "\n",
      "4 th - testcase :  --17-5 229 35-39475 \n",
      "all space and dashes are delete :  ['1', '7', '5', '2', '2', '9', '3', '5', '3', '9', '4', '7', '5']\n",
      "left 4 num\n",
      "num lst :  ['175', '229', '353', '94', '75']\n",
      "175-229-353-94-75\n",
      "result :  175-229-353-94-75\n",
      "\n"
     ]
    }
   ],
   "source": [
    "testcase = [\"1-23-45 6\",\n",
    "        \"123 4-567\",\n",
    "        \"123 4-5678\",\n",
    "        \"12\",\n",
    "        \"--17-5 229 35-39475 \"]\n",
    "\n",
    "solution = Solution()\n",
    "for i, string in enumerate(testcase):\n",
    "    print(i,\"th - testcase : \", string)\n",
    "    print(\"result : \", solution.reformatNumber(string))\n",
    "    print()\n",
    "    "
   ]
  },
  {
   "cell_type": "code",
   "execution_count": null,
   "metadata": {},
   "outputs": [],
   "source": []
  }
 ],
 "metadata": {
  "kernelspec": {
   "display_name": "aiffel",
   "language": "python",
   "name": "aiffel"
  },
  "language_info": {
   "codemirror_mode": {
    "name": "ipython",
    "version": 3
   },
   "file_extension": ".py",
   "mimetype": "text/x-python",
   "name": "python",
   "nbconvert_exporter": "python",
   "pygments_lexer": "ipython3",
   "version": "3.7.9"
  }
 },
 "nbformat": 4,
 "nbformat_minor": 4
}
