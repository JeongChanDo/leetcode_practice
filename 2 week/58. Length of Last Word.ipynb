{
 "cells": [
  {
   "cell_type": "code",
   "execution_count": 1,
   "metadata": {},
   "outputs": [],
   "source": [
    "class Solution:\n",
    "    def lengthOfLastWord(self, s: str) -> int:\n",
    "        if s == \" \":\n",
    "            #print(\"return 0\")\n",
    "            return 0\n",
    "        \n",
    "        #in\n",
    "        word_cnt = 1\n",
    "        for i in range(len(s)):\n",
    "            if s[i] == ' '  and ((i + 1) < len(s)):\n",
    "                if s[i + 1] != ' ':\n",
    "                    word_cnt = word_cnt + 1\n",
    "        total_word_cnt, word_cnt = word_cnt, 1\n",
    "        \n",
    "        word_dict = dict()\n",
    "        for i in range(1, total_word_cnt + 1):\n",
    "            word_dict[str(i)] = 0\n",
    "        #print(word_dict)\n",
    "        \n",
    "        word_len = 0\n",
    "        for i in range(len(s)):\n",
    "            if s[i] == ' ' and ((i + 1) < len(s)):\n",
    "                if s[i + 1] == ' ':\n",
    "                    continue\n",
    "                word_dict[str(word_cnt)] = word_len\n",
    "                word_len = 0\n",
    "                word_cnt = word_cnt + 1\n",
    "                continue\n",
    "            if s[i] == ' ' and (i + 1) == len(s):\n",
    "                pass\n",
    "            else:\n",
    "                word_len = word_len + 1\n",
    "            if i + 1 == len(s):\n",
    "                word_dict[str(word_cnt)] = word_len\n",
    "\n",
    "        print(total_word_cnt, word_dict)\n",
    "        return word_dict[str(total_word_cnt)]\n"
   ]
  },
  {
   "cell_type": "code",
   "execution_count": 2,
   "metadata": {},
   "outputs": [
    {
     "name": "stdout",
     "output_type": "stream",
     "text": [
      "0 th - testcase :  Hello World\n",
      "2 {'1': 5, '2': 5}\n",
      "result :  5\n",
      "\n",
      "1 th - testcase :  we love python\n",
      "3 {'1': 2, '2': 4, '3': 6}\n",
      "result :  6\n",
      "\n",
      "2 th - testcase :   \n",
      "result :  0\n",
      "\n",
      "3 th - testcase :  what is the problem?\n",
      "4 {'1': 4, '2': 2, '3': 3, '4': 8}\n",
      "result :  8\n",
      "\n"
     ]
    }
   ],
   "source": [
    "testcase = [\"Hello World\",\n",
    "        \"we love python\",\n",
    "        \" \",\n",
    "        \"what is the problem?\"]\n",
    "\n",
    "solution = Solution()\n",
    "for i, string in enumerate(testcase):\n",
    "    print(i,\"th - testcase : \", string)\n",
    "    print(\"result : \", solution.lengthOfLastWord(string))\n",
    "    print()\n",
    "    "
   ]
  },
  {
   "cell_type": "code",
   "execution_count": null,
   "metadata": {},
   "outputs": [],
   "source": []
  }
 ],
 "metadata": {
  "kernelspec": {
   "display_name": "aiffel",
   "language": "python",
   "name": "aiffel"
  },
  "language_info": {
   "codemirror_mode": {
    "name": "ipython",
    "version": 3
   },
   "file_extension": ".py",
   "mimetype": "text/x-python",
   "name": "python",
   "nbconvert_exporter": "python",
   "pygments_lexer": "ipython3",
   "version": "3.7.9"
  }
 },
 "nbformat": 4,
 "nbformat_minor": 4
}
