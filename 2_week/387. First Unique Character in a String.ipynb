{
 "cells": [
  {
   "cell_type": "code",
   "execution_count": 1,
   "metadata": {},
   "outputs": [],
   "source": [
    "class Solution:\n",
    "    def firstUniqChar(self, s: str) -> int:\n",
    "        print(\"#### str : \", s,\"###\")\n",
    "        #make word dict for counting\n",
    "        word_dict = dict()\n",
    "        for i in range(len(s)):\n",
    "            word_dict[s[i]] = 0\n",
    "        print(\"word dict initialized : \", word_dict)\n",
    "        \n",
    "        \n",
    "        #word counting\n",
    "        for i in range(len(s)):\n",
    "            word_dict[s[i]] = 1 + word_dict[s[i]]\n",
    "        \n",
    "        print(\"after counting word : \", word_dict)\n",
    "        \n",
    "        #find first non repeating character\n",
    "        for key in word_dict:\n",
    "            if word_dict[key] == 1:\n",
    "                idx = s.find(key)\n",
    "                print(\"non reapting character idx : \", idx )\n",
    "                print()\n",
    "                return idx\n",
    "        return -1"
   ]
  },
  {
   "cell_type": "code",
   "execution_count": 2,
   "metadata": {},
   "outputs": [
    {
     "name": "stdout",
     "output_type": "stream",
     "text": [
      "0 th - testcase :  leetcode\n",
      "#### str :  leetcode ###\n",
      "word dict initialized :  {'l': 0, 'e': 0, 't': 0, 'c': 0, 'o': 0, 'd': 0}\n",
      "after counting word :  {'l': 1, 'e': 3, 't': 1, 'c': 1, 'o': 1, 'd': 1}\n",
      "non reapting character idx :  0\n",
      "\n",
      "result :  0\n",
      "\n",
      "1 th - testcase :  loveleetcode\n",
      "#### str :  loveleetcode ###\n",
      "word dict initialized :  {'l': 0, 'o': 0, 'v': 0, 'e': 0, 't': 0, 'c': 0, 'd': 0}\n",
      "after counting word :  {'l': 2, 'o': 2, 'v': 1, 'e': 4, 't': 1, 'c': 1, 'd': 1}\n",
      "non reapting character idx :  2\n",
      "\n",
      "result :  2\n",
      "\n"
     ]
    }
   ],
   "source": [
    "testcase = [\"leetcode\",\n",
    "        \"loveleetcode\"]\n",
    "\n",
    "solution = Solution()\n",
    "for i, string in enumerate(testcase):\n",
    "    print(i,\"th - testcase : \", string)\n",
    "    print(\"result : \", solution.firstUniqChar(string))\n",
    "    print()\n",
    "    "
   ]
  }
 ],
 "metadata": {
  "kernelspec": {
   "display_name": "Python 3",
   "language": "python",
   "name": "python3"
  },
  "language_info": {
   "codemirror_mode": {
    "name": "ipython",
    "version": 3
   },
   "file_extension": ".py",
   "mimetype": "text/x-python",
   "name": "python",
   "nbconvert_exporter": "python",
   "pygments_lexer": "ipython3",
   "version": "3.7.9"
  }
 },
 "nbformat": 4,
 "nbformat_minor": 4
}
