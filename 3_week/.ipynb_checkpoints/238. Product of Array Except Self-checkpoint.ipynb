{
 "cells": [
  {
   "cell_type": "code",
   "execution_count": 1,
   "metadata": {},
   "outputs": [],
   "source": [
    "from typing import List\n",
    "\n",
    "class Solution:\n",
    "    def productExceptSelf(self, nums: List[int]) -> List[int]:\n",
    "        res = []\n",
    "        val = 1\n",
    "        for i in range(len(nums)):\n",
    "            res.append(val)\n",
    "            val = val * nums[i]\n",
    "        #print(res)\n",
    "        \n",
    "        val = 1\n",
    "        for i in range(len(nums) - 1, 0 -1, -1):\n",
    "            res[i] = res[i] * val\n",
    "            val = val * nums[i]\n",
    "        #print(res)\n",
    "        return res"
   ]
  },
  {
   "cell_type": "code",
   "execution_count": 2,
   "metadata": {},
   "outputs": [
    {
     "name": "stdout",
     "output_type": "stream",
     "text": [
      "0 th - testcase :  [1, 2, 3, 4]\n",
      "result :  [24, 12, 8, 6]\n",
      "\n"
     ]
    }
   ],
   "source": [
    "testcase = [\n",
    "            [1,2,3,4]\n",
    "           ]\n",
    "\n",
    "solution = Solution()\n",
    "for i, elem in enumerate(testcase):\n",
    "    print(i,\"th - testcase : \", elem)\n",
    "    print(\"result : \", solution.productExceptSelf(elem))\n",
    "    print()\n",
    "    "
   ]
  }
 ],
 "metadata": {
  "kernelspec": {
   "display_name": "aiffel",
   "language": "python",
   "name": "aiffel"
  },
  "language_info": {
   "codemirror_mode": {
    "name": "ipython",
    "version": 3
   },
   "file_extension": ".py",
   "mimetype": "text/x-python",
   "name": "python",
   "nbconvert_exporter": "python",
   "pygments_lexer": "ipython3",
   "version": "3.7.9"
  }
 },
 "nbformat": 4,
 "nbformat_minor": 4
}
