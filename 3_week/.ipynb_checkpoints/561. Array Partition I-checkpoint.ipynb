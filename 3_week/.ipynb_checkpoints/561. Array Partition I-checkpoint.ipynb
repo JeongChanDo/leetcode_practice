{
 "cells": [
  {
   "cell_type": "code",
   "execution_count": 1,
   "metadata": {},
   "outputs": [],
   "source": [
    "from typing import List\n",
    "\n",
    "class Solution:\n",
    "    def arrayPairSum(self, nums: List[int]) -> int:\n",
    "        nums.sort()\n",
    "        \n",
    "        total = 0\n",
    "        for i in range(0, len(nums), 2):\n",
    "            total += min([nums[i], nums[i+1]])\n",
    "        return total"
   ]
  },
  {
   "cell_type": "code",
   "execution_count": 2,
   "metadata": {},
   "outputs": [
    {
     "name": "stdout",
     "output_type": "stream",
     "text": [
      "0 th - testcase :  [1, 4, 3, 2]\n",
      "result :  4\n",
      "\n",
      "1 th - testcase :  [6, 2, 6, 5, 1, 2]\n",
      "result :  9\n",
      "\n"
     ]
    }
   ],
   "source": [
    "testcase = [\n",
    "            [1,4,3,2],\n",
    "            [6,2,6,5,1,2]\n",
    "           ]\n",
    "\n",
    "solution = Solution()\n",
    "for i, elem in enumerate(testcase):\n",
    "    print(i,\"th - testcase : \", elem)\n",
    "    print(\"result : \", solution.arrayPairSum(elem))\n",
    "    print()\n",
    "    "
   ]
  }
 ],
 "metadata": {
  "kernelspec": {
   "display_name": "aiffel",
   "language": "python",
   "name": "aiffel"
  },
  "language_info": {
   "codemirror_mode": {
    "name": "ipython",
    "version": 3
   },
   "file_extension": ".py",
   "mimetype": "text/x-python",
   "name": "python",
   "nbconvert_exporter": "python",
   "pygments_lexer": "ipython3",
   "version": "3.7.9"
  }
 },
 "nbformat": 4,
 "nbformat_minor": 4
}
