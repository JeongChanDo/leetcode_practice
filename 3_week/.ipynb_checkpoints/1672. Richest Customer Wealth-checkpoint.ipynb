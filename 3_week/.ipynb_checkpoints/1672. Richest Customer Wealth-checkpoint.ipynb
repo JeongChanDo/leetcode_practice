{
 "cells": [
  {
   "cell_type": "code",
   "execution_count": 1,
   "metadata": {},
   "outputs": [],
   "source": [
    "from typing import List\n",
    "\n",
    "class Solution:\n",
    "    def maximumWealth(self, accounts: List[List[int]]) -> int:\n",
    "        wealth_lst = []\n",
    "        for account in accounts:\n",
    "            account_wealth = sum(account)\n",
    "            wealth_lst.append(account_wealth)\n",
    "        return max(wealth_lst)"
   ]
  },
  {
   "cell_type": "code",
   "execution_count": 2,
   "metadata": {},
   "outputs": [
    {
     "name": "stdout",
     "output_type": "stream",
     "text": [
      "0 th - testcase :  [[1, 2, 3], [3, 2, 1]]\n",
      "result :  6\n",
      "\n",
      "1 th - testcase :  [[1, 5], [7, 3], [3, 5]]\n",
      "result :  10\n",
      "\n",
      "2 th - testcase :  [[2, 8, 7], [7, 1, 3], [1, 9, 5]]\n",
      "result :  17\n",
      "\n"
     ]
    }
   ],
   "source": [
    "testcase = [\n",
    "            [[1,2,3],[3,2,1]],\n",
    "            [[1,5],[7,3],[3,5]],\n",
    "            [[2,8,7],[7,1,3],[1,9,5]]\n",
    "           ]\n",
    "\n",
    "solution = Solution()\n",
    "for i, elem in enumerate(testcase):\n",
    "    print(i,\"th - testcase : \", elem)\n",
    "    print(\"result : \", solution.maximumWealth(elem))\n",
    "    print()\n",
    "    "
   ]
  }
 ],
 "metadata": {
  "kernelspec": {
   "display_name": "aiffel",
   "language": "python",
   "name": "aiffel"
  },
  "language_info": {
   "codemirror_mode": {
    "name": "ipython",
    "version": 3
   },
   "file_extension": ".py",
   "mimetype": "text/x-python",
   "name": "python",
   "nbconvert_exporter": "python",
   "pygments_lexer": "ipython3",
   "version": "3.7.9"
  }
 },
 "nbformat": 4,
 "nbformat_minor": 4
}
