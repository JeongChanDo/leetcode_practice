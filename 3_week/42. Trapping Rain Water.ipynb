{
 "cells": [
  {
   "cell_type": "code",
   "execution_count": 1,
   "metadata": {},
   "outputs": [],
   "source": [
    "from typing import List\n",
    "\n",
    "class Solution:\n",
    "    def trap(self, height: List[int]) -> int:\n",
    "        if not height:\n",
    "            return 0\n",
    "        max_height = max(height)\n",
    "        width = len(height)\n",
    "        \n",
    "        elev_map = []\n",
    "        #print(\"### make empty elev map ###\")\n",
    "        for y in range(max_height):\n",
    "            floor = [0 for x in range(width)]\n",
    "            elev_map.append(floor)\n",
    "            #print(floor)\n",
    "\n",
    "        # build elev map\n",
    "        for w in range(width):\n",
    "            for y in range(height[w]):\n",
    "                elev_map[y][w] = 1\n",
    "\n",
    "        '''\n",
    "        print(\"### eleve map ###\")\n",
    "        for floor in elev_map:\n",
    "            print(floor)\n",
    "        '''\n",
    "\n",
    "        total_water = 0\n",
    "        # check how much water is here between walls\n",
    "        for floor in elev_map:\n",
    "            \n",
    "            left_wall, right_wall = 0, 0\n",
    "            water = 0\n",
    "            for x in range(len(floor)):\n",
    "                if floor[x] == 1:\n",
    "                    left_wall = x\n",
    "                    break\n",
    "            for x in range(len(floor) -1 , 0, -1):\n",
    "                if floor[x] == 1:\n",
    "                    right_wall = x\n",
    "                    break\n",
    "\n",
    "            # there's no water in this floor\n",
    "            if left_wall == right_wall:\n",
    "                pass\n",
    "            # check how much water is here\n",
    "            else:\n",
    "                water = floor[left_wall:right_wall].count(0)\n",
    "            total_water += water\n",
    "        \n",
    "        #print(\"total water : \", total_water)\n",
    "        return total_water"
   ]
  },
  {
   "cell_type": "code",
   "execution_count": 2,
   "metadata": {},
   "outputs": [
    {
     "name": "stdout",
     "output_type": "stream",
     "text": [
      "0 th - testcase :  [0, 1, 0, 2, 1, 0, 1, 3, 2, 1, 2, 1]\n",
      "result :  6\n",
      "\n",
      "1 th - testcase :  [4, 2, 0, 3, 2, 5]\n",
      "result :  9\n",
      "\n"
     ]
    }
   ],
   "source": [
    "testcase = [\n",
    "            [0,1,0,2,1,0,1,3,2,1,2,1],\n",
    "            [4,2,0,3,2,5]\n",
    "           ]\n",
    "\n",
    "solution = Solution()\n",
    "for i, elem in enumerate(testcase):\n",
    "    print(i,\"th - testcase : \", elem)\n",
    "    print(\"result : \", solution.trap(elem))\n",
    "    print()\n",
    "    "
   ]
  }
 ],
 "metadata": {
  "kernelspec": {
   "display_name": "aiffel",
   "language": "python",
   "name": "aiffel"
  },
  "language_info": {
   "codemirror_mode": {
    "name": "ipython",
    "version": 3
   },
   "file_extension": ".py",
   "mimetype": "text/x-python",
   "name": "python",
   "nbconvert_exporter": "python",
   "pygments_lexer": "ipython3",
   "version": "3.7.9"
  }
 },
 "nbformat": 4,
 "nbformat_minor": 4
}
