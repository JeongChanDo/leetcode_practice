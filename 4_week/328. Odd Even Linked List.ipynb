{
 "cells": [
  {
   "cell_type": "code",
   "execution_count": 1,
   "metadata": {},
   "outputs": [],
   "source": [
    "# Definition for singly-linked list.\n",
    "class ListNode:\n",
    "    def __init__(self, val=0, next=None):\n",
    "        self.val = val\n",
    "        self.next = next\n",
    "\n",
    "def lst2ll(lst):\n",
    "    node = ListNode(val=lst[-1], next=None)\n",
    "    for i in range(len(lst)-2, 0 - 1, -1):\n",
    "        node = ListNode(val=lst[i], next = node)\n",
    "    return node\n",
    "\n",
    "def print_ll(head):\n",
    "    while head != None:\n",
    "        print(head.val, end=\" \")\n",
    "        head = head.next\n",
    "    print()\n",
    "\n",
    "class Solution:\n",
    "    def oddEvenList(self, head: ListNode) -> ListNode:\n",
    "        odd_lst = []\n",
    "        even_lst = []\n",
    "        if head == None:\n",
    "            return None\n",
    "        \n",
    "        idx = 0\n",
    "        while head != None:\n",
    "            if idx % 2 == 1: #if head.val is odd\n",
    "                odd_lst.append(head.val)\n",
    "            else:\n",
    "                even_lst.append(head.val)\n",
    "            head = head.next\n",
    "            idx += 1\n",
    "        \n",
    "        #print(odd_lst)\n",
    "        #print(even_lst)\n",
    "        lst = even_lst + odd_lst\n",
    "        #print(lst)\n",
    "        \n",
    "        ll = lst2ll(lst)\n",
    "        #print_ll(ll)\n",
    "        return ll"
   ]
  },
  {
   "cell_type": "code",
   "execution_count": 2,
   "metadata": {},
   "outputs": [
    {
     "name": "stdout",
     "output_type": "stream",
     "text": [
      "0 th - testcase :  <__main__.ListNode object at 0x000001FDB1145358>\n",
      "input :  1 2 3 4 5 \n",
      "-----\n",
      "output :  1 3 5 2 4 \n"
     ]
    }
   ],
   "source": [
    "testcase = [\n",
    "                ListNode(1,next=ListNode(2,next=ListNode(3,next=ListNode(4,next=ListNode(5,next=None)))))\n",
    "           ]\n",
    "\n",
    "solution = Solution()\n",
    "for i, elem in enumerate(testcase):\n",
    "    print(i,\"th - testcase : \", elem)\n",
    "    print(\"input : \", end=\" \")\n",
    "    print_ll(elem)\n",
    "    print(\"-----\")\n",
    "    res = solution.oddEvenList(elem)\n",
    "    print(\"output : \", end=\" \")\n",
    "    print_ll(res)\n",
    "    "
   ]
  },
  {
   "cell_type": "code",
   "execution_count": null,
   "metadata": {},
   "outputs": [],
   "source": []
  }
 ],
 "metadata": {
  "kernelspec": {
   "display_name": "Python 3",
   "language": "python",
   "name": "python3"
  },
  "language_info": {
   "codemirror_mode": {
    "name": "ipython",
    "version": 3
   },
   "file_extension": ".py",
   "mimetype": "text/x-python",
   "name": "python",
   "nbconvert_exporter": "python",
   "pygments_lexer": "ipython3",
   "version": "3.7.1"
  }
 },
 "nbformat": 4,
 "nbformat_minor": 4
}
