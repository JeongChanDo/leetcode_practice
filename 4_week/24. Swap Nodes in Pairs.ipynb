{
 "cells": [
  {
   "cell_type": "code",
   "execution_count": 1,
   "metadata": {},
   "outputs": [],
   "source": [
    "# Definition for singly-linked list.\n",
    "class ListNode:\n",
    "    def __init__(self, val=0, next=None):\n",
    "        self.val = val\n",
    "        self.next = next\n",
    "\n",
    "def ll2lst(head):\n",
    "    lst = []\n",
    "    while head != None:\n",
    "        lst.append(head.val)\n",
    "        head = head.next\n",
    "    return lst\n",
    "\n",
    "def lst2split(lst):\n",
    "    odd_lst = []\n",
    "    even_lst = []\n",
    "    for i in range(len(lst)):\n",
    "        if i % 2 == 0:\n",
    "            odd_lst.append(lst[i])\n",
    "        else:\n",
    "            even_lst.append(lst[i])\n",
    "    return odd_lst, even_lst\n",
    "\n",
    "def lst2swaped(lst):\n",
    "    odd_lst, even_lst = lst2split(lst)\n",
    "    print(odd_lst, even_lst)\n",
    "\n",
    "    swap_lst = []\n",
    "    for i in range(len(even_lst)):\n",
    "        swap_lst.append(even_lst[i])\n",
    "        swap_lst.append(odd_lst[i])\n",
    "    if len(even_lst) != len(odd_lst):\n",
    "        swap_lst.append(odd_lst[len(odd_lst) - 1])\n",
    "    return swap_lst\n",
    "\n",
    "def lst2ll(lst):\n",
    "    node = ListNode(val=lst[-1], next=None)\n",
    "    lst.pop()\n",
    "    while lst:\n",
    "        node = ListNode(val=lst[-1], next=node)\n",
    "        lst.pop()\n",
    "    return node\n",
    "\n",
    "def print_ll(node):\n",
    "    while node != None:\n",
    "        print(node.val, end =\" \")\n",
    "        node = node.next\n",
    "    print()\n",
    "\n",
    "\n",
    "class Solution:\n",
    "    def swapPairs(self, head: ListNode) -> ListNode:\n",
    "        if not head: return None\n",
    "        if head.next == None: return head\n",
    "\n",
    "        lst = ll2lst(head)\n",
    "        swap_lst = lst2swaped(lst)\n",
    "        swap_ll = lst2ll(swap_lst)\n",
    "        print_ll(swap_ll)\n",
    "        return swap_ll"
   ]
  },
  {
   "cell_type": "code",
   "execution_count": 2,
   "metadata": {},
   "outputs": [
    {
     "name": "stdout",
     "output_type": "stream",
     "text": [
      "0 th - testcase :  <__main__.ListNode object at 0x0000020822479320>\n",
      "input :  1 2 3 4 \n",
      "-----\n",
      "[1, 3] [2, 4]\n",
      "2 1 4 3 \n",
      "output :  2 1 4 3 \n"
     ]
    }
   ],
   "source": [
    "testcase = [\n",
    "                ListNode(1,next=ListNode(2,next=ListNode(3,next=ListNode(4,next=None))))\n",
    "           ]\n",
    "\n",
    "solution = Solution()\n",
    "for i, elem in enumerate(testcase):\n",
    "    print(i,\"th - testcase : \", elem)\n",
    "    print(\"input : \", end=\" \")\n",
    "    print_ll(elem)\n",
    "    print(\"-----\")\n",
    "    res = solution.swapPairs(elem)\n",
    "    print(\"output : \", end=\" \")\n",
    "    print_ll(res)\n",
    "    "
   ]
  },
  {
   "cell_type": "code",
   "execution_count": null,
   "metadata": {},
   "outputs": [],
   "source": []
  }
 ],
 "metadata": {
  "kernelspec": {
   "display_name": "Python 3",
   "language": "python",
   "name": "python3"
  },
  "language_info": {
   "codemirror_mode": {
    "name": "ipython",
    "version": 3
   },
   "file_extension": ".py",
   "mimetype": "text/x-python",
   "name": "python",
   "nbconvert_exporter": "python",
   "pygments_lexer": "ipython3",
   "version": "3.7.1"
  }
 },
 "nbformat": 4,
 "nbformat_minor": 4
}
