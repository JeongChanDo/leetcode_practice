{
 "cells": [
  {
   "cell_type": "code",
   "execution_count": 3,
   "metadata": {},
   "outputs": [],
   "source": [
    "# Definition for singly-linked list.\n",
    "class ListNode:\n",
    "    def __init__(self, val=0, next=None):\n",
    "        self.val = val\n",
    "        self.next = next\n",
    "\n",
    "def ll2lst(head):\n",
    "    lst = []\n",
    "    while head != None:\n",
    "        lst.append(head.val)\n",
    "        head = head.next\n",
    "    return lst\n",
    "\n",
    "def lst2ll(lst):\n",
    "    if not lst:return None\n",
    "    node = ListNode(val=lst[-1], next=None)\n",
    "    for i in range(len(lst) - 2, 0 - 1, -1):\n",
    "        node = ListNode(val= lst[i], next = node)    \n",
    "    return node\n",
    "\n",
    "\n",
    "def print_ll(node):\n",
    "    while node != None:\n",
    "        print(node.val, end =\" \")\n",
    "        node = node.next\n",
    "    print()\n",
    "\n",
    "class Solution:\n",
    "    def mergeTwoLists(self, l1: ListNode, l2: ListNode) -> ListNode:\n",
    "        lst1 = ll2lst(l1)\n",
    "        lst2 = ll2lst(l2)\n",
    "        lst = sorted(lst1 + lst2)\n",
    "        head = lst2ll(lst)\n",
    "        return head"
   ]
  },
  {
   "cell_type": "code",
   "execution_count": 4,
   "metadata": {},
   "outputs": [
    {
     "name": "stdout",
     "output_type": "stream",
     "text": [
      "0 th - testcase :  [<__main__.ListNode object at 0x00000175E7DA82B0>, <__main__.ListNode object at 0x00000175E7DA85C0>]\n",
      "input :  1 2 4 \n",
      "1 3 4 \n",
      "-----\n",
      "output :  1 1 2 3 4 4 \n"
     ]
    }
   ],
   "source": [
    "testcase = [\n",
    "                [ListNode(1,next=ListNode(2,next=ListNode(4,next=None))),\n",
    "                ListNode(1,next=ListNode(3,next=ListNode(4,next=None)))]\n",
    "           ]\n",
    "\n",
    "solution = Solution()\n",
    "for i, elem in enumerate(testcase):\n",
    "    print(i,\"th - testcase : \", elem)\n",
    "    print(\"input : \", end=\" \")\n",
    "    print_ll(elem[0])\n",
    "    print_ll(elem[1])\n",
    "    print(\"-----\")\n",
    "    res = solution.mergeTwoLists(elem[0], elem[1])\n",
    "    print(\"output : \", end=\" \")\n",
    "    print_ll(res)\n",
    "    "
   ]
  },
  {
   "cell_type": "code",
   "execution_count": null,
   "metadata": {},
   "outputs": [],
   "source": []
  }
 ],
 "metadata": {
  "kernelspec": {
   "display_name": "Python 3",
   "language": "python",
   "name": "python3"
  },
  "language_info": {
   "codemirror_mode": {
    "name": "ipython",
    "version": 3
   },
   "file_extension": ".py",
   "mimetype": "text/x-python",
   "name": "python",
   "nbconvert_exporter": "python",
   "pygments_lexer": "ipython3",
   "version": "3.7.1"
  }
 },
 "nbformat": 4,
 "nbformat_minor": 4
}
