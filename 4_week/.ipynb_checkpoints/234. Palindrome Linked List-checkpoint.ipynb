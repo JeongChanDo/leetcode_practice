{
 "cells": [
  {
   "cell_type": "code",
   "execution_count": 2,
   "metadata": {},
   "outputs": [],
   "source": [
    "# Definition for singly-linked list.\n",
    "class ListNode:\n",
    "    def __init__(self, val=0, next=None):\n",
    "        self.val = val\n",
    "        self.next = next\n",
    "\n",
    "def reverse_ll(head):\n",
    "    if head == None:\n",
    "        return None\n",
    "    \n",
    "    node = head.next\n",
    "    reverse_node = ListNode(val=head.val, next=None)\n",
    "    while node != None:\n",
    "        reverse_node = ListNode(val=node.val, next=reverse_node)\n",
    "        node = node.next\n",
    "    return reverse_node\n",
    "\n",
    "def print_ll(head):\n",
    "    while head != None:\n",
    "        print(head.val, end=\" \")\n",
    "        head = head.next\n",
    "    print()\n",
    "\n",
    "class Solution:\n",
    "    def isPalindrome(self, head: ListNode) -> bool:\n",
    "        #print_ll(head)\n",
    "        rev = reverse_ll(head)\n",
    "        #print_ll(rev)\n",
    "        \n",
    "        while head != None:\n",
    "            if head.val == rev.val:\n",
    "                head = head.next\n",
    "                rev = rev.next\n",
    "            else:\n",
    "                return False\n",
    "        return True"
   ]
  },
  {
   "cell_type": "code",
   "execution_count": 5,
   "metadata": {},
   "outputs": [
    {
     "name": "stdout",
     "output_type": "stream",
     "text": [
      "0 th - testcase :  <__main__.ListNode object at 0x000001E5E3FD3048>\n",
      "input :  1 2 3 4 5 \n",
      "output :  False\n",
      "1 th - testcase :  <__main__.ListNode object at 0x000001E5E3FD31D0>\n",
      "input :  1 2 1 \n",
      "output :  True\n"
     ]
    }
   ],
   "source": [
    "testcase = [\n",
    "                ListNode(1,next=ListNode(2,next=ListNode(3,next=ListNode(4,next=ListNode(5,next=None))))),\n",
    "                ListNode(1,next=ListNode(2,next=ListNode(1,next=None)))\n",
    "           ]\n",
    "\n",
    "solution = Solution()\n",
    "for i, elem in enumerate(testcase):\n",
    "    print(i,\"th - testcase : \", elem)\n",
    "    print(\"input : \", end=\" \")\n",
    "    print_ll(elem)\n",
    "    res = solution.isPalindrome(elem)\n",
    "    print(\"output : \", res)\n",
    "    "
   ]
  },
  {
   "cell_type": "code",
   "execution_count": null,
   "metadata": {},
   "outputs": [],
   "source": []
  }
 ],
 "metadata": {
  "kernelspec": {
   "display_name": "Python 3",
   "language": "python",
   "name": "python3"
  },
  "language_info": {
   "codemirror_mode": {
    "name": "ipython",
    "version": 3
   },
   "file_extension": ".py",
   "mimetype": "text/x-python",
   "name": "python",
   "nbconvert_exporter": "python",
   "pygments_lexer": "ipython3",
   "version": "3.7.1"
  }
 },
 "nbformat": 4,
 "nbformat_minor": 4
}
