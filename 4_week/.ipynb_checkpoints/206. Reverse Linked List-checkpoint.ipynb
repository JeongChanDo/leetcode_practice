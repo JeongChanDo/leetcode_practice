{
 "cells": [
  {
   "cell_type": "code",
   "execution_count": 1,
   "metadata": {},
   "outputs": [],
   "source": [
    "# Definition for singly-linked list.\n",
    "class ListNode:\n",
    "    def __init__(self, val=0, next=None):\n",
    "        self.val = val\n",
    "        self.next = next\n",
    "\n",
    "def print_ll(head):\n",
    "    while head != None:\n",
    "        print(head.val, end=\" \")\n",
    "        head = head.next\n",
    "    print()\n",
    "\n",
    "class Solution:\n",
    "    def reverseList(self, head: ListNode) -> ListNode:\n",
    "        \n",
    "        #print_ll(head)\n",
    "        if head == None:\n",
    "            return None\n",
    "        node = head.next\n",
    "        reverse_node = ListNode(val=head.val, next=None)\n",
    "        \n",
    "        while node != None:\n",
    "            reverse_node = ListNode(val=node.val, next=reverse_node)\n",
    "            node = node.next\n",
    "        return reverse_node"
   ]
  },
  {
   "cell_type": "code",
   "execution_count": 2,
   "metadata": {},
   "outputs": [
    {
     "name": "stdout",
     "output_type": "stream",
     "text": [
      "0 th - testcase :  <__main__.ListNode object at 0x000001A30D0B41D0>\n",
      "input :  1 2 3 4 5 \n",
      "-----\n",
      "output :  5 4 3 2 1 \n"
     ]
    }
   ],
   "source": [
    "testcase = [\n",
    "                ListNode(1,next=ListNode(2,next=ListNode(3,next=ListNode(4,next=ListNode(5,next=None)))))\n",
    "           ]\n",
    "\n",
    "solution = Solution()\n",
    "for i, elem in enumerate(testcase):\n",
    "    print(i,\"th - testcase : \", elem)\n",
    "    print(\"input : \", end=\" \")\n",
    "    print_ll(elem)\n",
    "    print(\"-----\")\n",
    "    res = solution.reverseList(elem)\n",
    "    print(\"output : \", end=\" \")\n",
    "    print_ll(res)\n",
    "    "
   ]
  },
  {
   "cell_type": "code",
   "execution_count": null,
   "metadata": {},
   "outputs": [],
   "source": []
  }
 ],
 "metadata": {
  "kernelspec": {
   "display_name": "Python 3",
   "language": "python",
   "name": "python3"
  },
  "language_info": {
   "codemirror_mode": {
    "name": "ipython",
    "version": 3
   },
   "file_extension": ".py",
   "mimetype": "text/x-python",
   "name": "python",
   "nbconvert_exporter": "python",
   "pygments_lexer": "ipython3",
   "version": "3.7.1"
  }
 },
 "nbformat": 4,
 "nbformat_minor": 4
}
